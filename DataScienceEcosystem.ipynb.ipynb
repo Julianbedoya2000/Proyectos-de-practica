{
 "cells": [
  {
   "cell_type": "markdown",
   "id": "898a8c73-7eff-43a5-a22f-9ffa345ee380",
   "metadata": {},
   "source": [
    "##### Ejercicio 2: Crear una celda de markdown con el título del cuaderno\n",
    "##### Crea una celda de markdown con el título Data Science Tools and Ecosystem utilizando el estilo de encabezado H1."
   ]
  },
  {
   "cell_type": "markdown",
   "id": "8dc919b2-d6f7-4f2e-816d-fbd1c2b3d911",
   "metadata": {},
   "source": [
    "# Data Science Tools and Ecosystem"
   ]
  },
  {
   "cell_type": "markdown",
   "id": "4d12358f-6d6f-4b58-b3ce-62716bfac7a9",
   "metadata": {},
   "source": [
    "##### Ejercicio 3 - Crear una celda de markdown para una introducción\r",
    "##### scribe una frase introductoria sobre el cuaderno\r\n"
   ]
  },
  {
   "cell_type": "markdown",
   "id": "3568cff6-7058-4d0b-a5f6-032d7cf623f3",
   "metadata": {},
   "source": [
    "## En este cuaderno, se resumen las herramientas y ecosistemas de ciencia de datos."
   ]
  },
  {
   "cell_type": "markdown",
   "id": "f0dbd132-aaea-4f08-8755-2b0ffdb3c03f",
   "metadata": {},
   "source": [
    "##### Ejercicio 10 - Insertar una celda de markdown para listar Objetivos\n",
    "##### Debajo de la celda de introducción creada en el Ejercicio 3, inserta una nueva celda de markdown para listar los objetivos que cubre este cuaderno (es decir, algunos de los puntos clave del curso). En esta nueva celda comienza con una línea introductoria titulada: - Objetivos - en fuente negrita. Luego, utilizando una lista ordenada (viñetas), indica de 3 a 5 elementos cubiertos en este cuaderno, como: - Listar lenguajes populares para Ciencia de Datos. -"
   ]
  },
  {
   "cell_type": "markdown",
   "id": "12e250d2-41c9-49a4-9aef-c797f58b2054",
   "metadata": {},
   "source": [
    "**Objetivos:**\n",
    "\n",
    "- Describir la arquitectura básica de Jupyter.\n",
    "  \n",
    "- Crear un cuaderno Jupyter con markdown y celdas de código con operaciones algebraicas\n",
    "  \n",
    "- Explorar la creación de listas y tablas en celdas markdown\n",
    "  \n",
    "- \r\n",
    "Enumer e lenguaj para el analisis de datose\n",
    "\n",
    "- Identificar , bibliotecapara el analisis de dtaos\n",
    "\n",
    "- Listar y herramientas utilizados en la Ciencia de Dat\n",
    "os"
   ]
  },
  {
   "cell_type": "markdown",
   "id": "f2aac7d4-b6be-479f-b536-da54b5993d51",
   "metadata": {},
   "source": [
    "##### Ejercicio 4 - Crear una celda de markdown para listar lenguajes de ciencia de datosos.\n"
   ]
  },
  {
   "cell_type": "markdown",
   "id": "7348be15-a1b9-41ee-a399-e3bb5c66b42a",
   "metadata": {},
   "source": [
    "##### Comienza la celda con una línea de visión general como: Algunos de los lenguajes populares que utilizan los científicos de datos son:\n",
    "##### Luego crea una lista ordenada (es decir, numerada) enumerando 3 (o más) lenguajes comúnmente utilizados para la ciencia de datos."
   ]
  },
  {
   "cell_type": "markdown",
   "id": "4cca2dda-bd31-434d-8b96-abeba8f36c63",
   "metadata": {},
   "source": [
    "#### lgunos de los lenguajes populares que utilizan los científicos de datos son:\n",
    "1. Python\n",
    "2. JavaScript\n",
    "3. c++\n",
    "4. Java\n",
    "5. Go"
   ]
  },
  {
   "cell_type": "markdown",
   "id": "543ad32b-1036-482b-bc9d-dd949a8aebc5",
   "metadata": {},
   "source": [
    "###### Parte experimental para entender las listas en código"
   ]
  },
  {
   "cell_type": "code",
   "execution_count": 31,
   "id": "e47a4945-8356-455a-ba27-ce8ee9228dde",
   "metadata": {},
   "outputs": [],
   "source": [
    "Lenguajes_de_programación=[\"Python\",\"JavaScript\",\"C++\",\"Java\",\"Go\"]  # Esta parte de código es para entender como funciona una lista con código"
   ]
  },
  {
   "cell_type": "code",
   "execution_count": 32,
   "id": "8ad8d698-5f12-4ea7-a86c-a12069d36965",
   "metadata": {},
   "outputs": [
    {
     "name": "stdout",
     "output_type": "stream",
     "text": [
      "['Python', 'JavaScript', 'C++', 'Java', 'Go']\n"
     ]
    }
   ],
   "source": [
    "print(Lenguajes_de_programación) # cómo se pueden ve los elementos"
   ]
  },
  {
   "cell_type": "code",
   "execution_count": 33,
   "id": "ad64f317-b3b5-4711-aad7-9d77b34921d3",
   "metadata": {},
   "outputs": [
    {
     "name": "stdout",
     "output_type": "stream",
     "text": [
      "Python\n",
      "JavaScript\n",
      "C++\n",
      "Java\n",
      "Go\n"
     ]
    }
   ],
   "source": [
    "for Lenguajes_de_programación in Lenguajes_de_programación :\n",
    " print(Lenguajes_de_programación) # y esta fue la forma que elegí se veian mejor las celdas con código"
   ]
  },
  {
   "cell_type": "markdown",
   "id": "fed813c9-0fcf-4c5f-b9d9-f9a4b7961325",
   "metadata": {},
   "source": [
    "###### Fin de larte experimental para entender las listas en código"
   ]
  },
  {
   "cell_type": "markdown",
   "id": "72e650b9-9819-4863-aaa6-36d1a12b8271",
   "metadata": {},
   "source": [
    "##### Ejercicio 5 - Crear una celda de markdown para listar bibliotecas de ciencia de datos\n",
    "##### Agrega una línea de visión general a la celda como: Algunas de las bibliotecas comúnmente utilizadas por los científicos de datos incluyen:\n",
    "##### Debajo de esta línea, agrega una lista ordenada enumerando 3 (o más) bibliotecas comúnmente utilizadas en ciencia de datos."
   ]
  },
  {
   "attachments": {},
   "cell_type": "markdown",
   "id": "82a72111-a941-42a6-96c5-5865826b5cb2",
   "metadata": {},
   "source": [
    "#### Algunas de las bibliotecas comúnmente utilizadas por los científicos de datos incluyen:\n",
    "1. NumPy\n",
    "2. Pandas\n",
    "3. Matplotlib\n",
    "4. Seaborn\n",
    "5. Scikit-learn"
   ]
  },
  {
   "cell_type": "markdown",
   "id": "d0ae5993-f4d6-4eba-ae42-e357bf962b7b",
   "metadata": {},
   "source": [
    "##### Ejercicio 6 - Crear una celda de markdown con una tabla de herramientas de ciencia de datos\n",
    "##### Crea una tabla de una sola columna en esta celda con la primera fila conteniendo el encabezado Herramientas de Ciencia de Datos\n",
    "##### Las siguientes tres filas de la tabla deben indicar tres herramientas de código abierto del entorno de desarrollo utilizadas en ciencia de datos."
   ]
  },
  {
   "cell_type": "markdown",
   "id": "95ed3672-2b93-488c-a57d-477f1dcaec8a",
   "metadata": {},
   "source": [
    "|Herramientas de Ciencia de Datos|\n",
    "---------------------------------\n",
    "|Jupyter Notebook|\n",
    "|Anaconda|\n",
    "|RStudio|\n",
    "|GitHub|\n",
    "|Visual Studio Code|\n"
   ]
  },
  {
   "cell_type": "markdown",
   "id": "2db51a6a-6e73-42b3-aaba-1a8f2cd21058",
   "metadata": {},
   "source": [
    "##### Ejercicio 7 - Crear una celda de markdown introduciendo ejemplos de expresiones aritméticas\n",
    "##### Agrega una línea en esta celda con un encabezado de estilo H3 con texto como:\n",
    "##### A continuación, se presentan algunos ejemplos de evaluación de expresiones aritméticas en Python\n"
   ]
  },
  {
   "cell_type": "markdown",
   "id": "ea7291b7-5ec8-42e2-8507-505e64c57899",
   "metadata": {},
   "source": [
    "### A continuación, se presentan algunos ejemplos de evaluación de expresiones aritméticas en Python"
   ]
  },
  {
   "cell_type": "markdown",
   "id": "79100733-5784-4578-b467-62d3c7d7db38",
   "metadata": {},
   "source": [
    "|Operador|Descripción|\n",
    "|--------|-----------|\n",
    "|+       |   suma    |\n",
    "|-|resta|\n",
    "|*|multiplicación|\n",
    "|/|división|"
   ]
  },
  {
   "cell_type": "markdown",
   "id": "56555422-3d58-475f-b300-90906e7cd84c",
   "metadata": {},
   "source": [
    "##### Ejercicio 8 - Crear una celda de código para multiplicar y sumar números\n",
    "##### En esta celda de código evalúa la expresión (3*4)+5\n",
    "##### Inserta una línea de comentario antes de la expresión para explicar la operación, por ejemplo, - Esta es una expresión aritmética simple para multiplicar y luego sumar enteros - Luego ejecuta la celda para asegurarte de que la expresión devuelva la salida esperada de: 17\n"
   ]
  },
  {
   "cell_type": "code",
   "execution_count": 36,
   "id": "9053a345-23b9-4b7a-abeb-c07a75d20e2a",
   "metadata": {},
   "outputs": [
    {
     "data": {
      "text/plain": [
       "17"
      ]
     },
     "execution_count": 36,
     "metadata": {},
     "output_type": "execute_result"
    }
   ],
   "source": [
    "# Esta es una expresión aritmética simple para multiplicar y luego sumar enteros\n",
    "(3*4)+5"
   ]
  },
  {
   "cell_type": "markdown",
   "id": "a2cb7694-2c06-4551-82c3-bced28cdce56",
   "metadata": {},
   "source": [
    "##### Ejercicio 9 - Crear una celda de código para convertir minutos a horas\n",
    "##### En esta celda de código escribe una expresión que convierta 200 minutos horas.\n",
    "##### Inserta una línea de comentario antes de la expresión para explicar la operación, por ejemplo, - Esto convertirá 200 minutos a horas dividiendo por 60 - \n",
    "##### Ejecuta la celda para evaluar la expresión."
   ]
  },
  {
   "cell_type": "code",
   "execution_count": 35,
   "id": "eac6b403-1555-455e-9886-d819e537d774",
   "metadata": {},
   "outputs": [
    {
     "data": {
      "text/plain": [
       "3.3333333333333335"
      ]
     },
     "execution_count": 35,
     "metadata": {},
     "output_type": "execute_result"
    }
   ],
   "source": [
    "# Esto convertirá 200 minutos a horas dividiendo por 60\n",
    "\n",
    "200 / 60"
   ]
  },
  {
   "cell_type": "markdown",
   "id": "392d1d30-b21e-4ccb-be38-440bb0cdb53a",
   "metadata": {},
   "source": [
    "##### Ejercicio 11 - Crear una celda de markdown para indicar el nombre del autor\n",
    "##### En esta celda de markdown incluye el siguiente texto Autor en encabezado de estilo H2. Incluye tu nombre como texto regular debajo de la palabra Autor."
   ]
  },
  {
   "cell_type": "markdown",
   "id": "d8f2eaf6-ce58-442e-a350-6740705df253",
   "metadata": {},
   "source": [
    "## Autor\n",
    "Julian Londoño Bedoya\n"
   ]
  },
  {
   "cell_type": "code",
   "execution_count": null,
   "id": "579a93b6-c4ab-49e1-ba26-fdc7e794e912",
   "metadata": {},
   "outputs": [],
   "source": []
  },
  {
   "cell_type": "code",
   "execution_count": null,
   "id": "34214ce9-f0c0-4c3c-91c3-949b02032740",
   "metadata": {},
   "outputs": [],
   "source": []
  },
  {
   "cell_type": "code",
   "execution_count": null,
   "id": "860bb63d-d05d-4867-9dfc-4174fcb60616",
   "metadata": {},
   "outputs": [],
   "source": []
  },
  {
   "cell_type": "code",
   "execution_count": null,
   "id": "5ee122ab-c6a6-45f0-8845-75927e90a451",
   "metadata": {},
   "outputs": [],
   "source": []
  },
  {
   "cell_type": "code",
   "execution_count": null,
   "id": "0dfa2f62-4d26-4f6e-a07a-7957858c7e63",
   "metadata": {},
   "outputs": [],
   "source": []
  },
  {
   "cell_type": "code",
   "execution_count": null,
   "id": "c4d2bb60-381e-4cf1-937c-744d33ebb354",
   "metadata": {},
   "outputs": [],
   "source": []
  }
 ],
 "metadata": {
  "kernelspec": {
   "display_name": "Python 3 (ipykernel)",
   "language": "python",
   "name": "python3"
  },
  "language_info": {
   "codemirror_mode": {
    "name": "ipython",
    "version": 3
   },
   "file_extension": ".py",
   "mimetype": "text/x-python",
   "name": "python",
   "nbconvert_exporter": "python",
   "pygments_lexer": "ipython3",
   "version": "3.11.7"
  }
 },
 "nbformat": 4,
 "nbformat_minor": 5
}
